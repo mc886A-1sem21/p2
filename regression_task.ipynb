{
 "metadata": {
  "language_info": {
   "codemirror_mode": {
    "name": "ipython",
    "version": 3
   },
   "file_extension": ".py",
   "mimetype": "text/x-python",
   "name": "python",
   "nbconvert_exporter": "python",
   "pygments_lexer": "ipython3",
   "version": "3.8.5"
  },
  "orig_nbformat": 2,
  "kernelspec": {
   "name": "python385jvsc74a57bd012a3d7b28335a2d9c536fbc33d913bf8e7f8a572375740e2e2d42b166168c6be",
   "display_name": "Python 3.8.5 64-bit ('mc886-venv': pyenv)"
  }
 },
 "nbformat": 4,
 "nbformat_minor": 2,
 "cells": [
  {
   "cell_type": "code",
   "execution_count": 2,
   "metadata": {},
   "outputs": [],
   "source": [
    "import pandas as pd\n",
    "import numpy as np\n",
    "import typing"
   ]
  },
  {
   "cell_type": "code",
   "execution_count": 5,
   "metadata": {},
   "outputs": [],
   "source": [
    "data1 = np.loadtxt(\"kick1.dat\")\n",
    "data2 = np.loadtxt(\"kick2.dat\")"
   ]
  },
  {
   "cell_type": "code",
   "execution_count": 6,
   "metadata": {},
   "outputs": [
    {
     "output_type": "execute_result",
     "data": {
      "text/plain": [
       "array([[-0.21 ,  2.048,  0.145],\n",
       "       [-0.305,  1.999,  0.103],\n",
       "       [-0.368,  1.968,  0.149],\n",
       "       [-0.37 ,  1.902,  0.11 ],\n",
       "       [-0.48 ,  1.841,  0.135],\n",
       "       [-0.532,  1.807,  0.111],\n",
       "       [-0.575,  1.733,  0.12 ],\n",
       "       [-0.583,  1.69 ,  0.111],\n",
       "       [-0.618,  1.649,  0.108],\n",
       "       [-0.702,  1.611,  0.117],\n",
       "       [-0.783,  1.568,  0.107],\n",
       "       [-0.842,  1.523,  0.104],\n",
       "       [-0.882,  1.438,  0.139],\n",
       "       [-0.93 ,  1.408,  0.142],\n",
       "       [-0.969,  1.34 ,  0.111],\n",
       "       [-0.989,  1.295,  0.107],\n",
       "       [-1.032,  1.244,  0.118],\n",
       "       [-1.088,  1.201,  0.119],\n",
       "       [-1.104,  1.159,  0.126],\n",
       "       [-1.192,  1.109,  0.11 ]])"
      ]
     },
     "metadata": {},
     "execution_count": 6
    }
   ],
   "source": [
    "data1"
   ]
  },
  {
   "cell_type": "code",
   "execution_count": 7,
   "metadata": {},
   "outputs": [
    {
     "output_type": "execute_result",
     "data": {
      "text/plain": [
       "array([[-0.105,  2.048,  0.145],\n",
       "       [-0.162,  1.999,  0.177],\n",
       "       [-0.184,  1.968,  0.172],\n",
       "       [-0.185,  1.902,  0.167],\n",
       "       [-0.23 ,  1.841,  0.192],\n",
       "       [-0.266,  1.807,  0.219],\n",
       "       [-0.287,  1.733,  0.213],\n",
       "       [-0.311,  1.69 ,  0.223],\n",
       "       [-0.309,  1.649,  0.25 ],\n",
       "       [-0.331,  1.611,  0.244],\n",
       "       [-0.391,  1.568,  0.233],\n",
       "       [-0.431,  1.523,  0.269],\n",
       "       [-0.441,  1.438,  0.283],\n",
       "       [-0.445,  1.408,  0.29 ],\n",
       "       [-0.484,  1.34 ,  0.263],\n",
       "       [-0.514,  1.295,  0.29 ],\n",
       "       [-0.516,  1.244,  0.28 ],\n",
       "       [-0.524,  1.201,  0.281],\n",
       "       [-0.552,  1.159,  0.296],\n",
       "       [-0.596,  1.109,  0.269]])"
      ]
     },
     "metadata": {},
     "execution_count": 7
    }
   ],
   "source": [
    "data2"
   ]
  },
  {
   "cell_type": "code",
   "execution_count": null,
   "metadata": {},
   "outputs": [],
   "source": [
    "def linear_regression(data_x: np.ndarray, data_y: np.ndarray, data_z: np.ndarray):\n",
    "    \"\"\"\n",
    "    Esse método é responsável por fazer o cálculo dos valores de teta(z), teta(x) e teta(y) da regressão linear utilizando também o cálculo do gradiente descendente.\n",
    "    Aqui farei o uso da seguinte hipótese:\n",
    "    h_teta(x,y) = teta0 + teta1 * x + teta2 * y\n",
    "\n",
    "    Parametros:\n",
    "\n",
    "    data_x (np.ndarray): dados da feature x\n",
    "    data_y (np.ndarray): dados da feature y\n",
    "    data_z (np.ndarray): dados de referência z\n",
    "    \"\"\"\n"
   ]
  }
 ]
}